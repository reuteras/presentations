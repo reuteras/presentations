{
 "cells": [
  {
   "cell_type": "markdown",
   "id": "2c90e8f1-4ddf-483b-83e4-49204c906dc8",
   "metadata": {},
   "source": [
    "# Rapporter och spara arbete\n",
    "\n",
    "Vi ska nu endast gå tillbaka och se olika alternativ för att spara som html, pdf med mera.\n",
    "Användningsområden."
   ]
  }
 ],
 "metadata": {
  "kernelspec": {
   "display_name": "Python 3 (ipykernel)",
   "language": "python",
   "name": "python3"
  },
  "language_info": {
   "codemirror_mode": {
    "name": "ipython",
    "version": 3
   },
   "file_extension": ".py",
   "mimetype": "text/x-python",
   "name": "python",
   "nbconvert_exporter": "python",
   "pygments_lexer": "ipython3",
   "version": "3.10.8"
  }
 },
 "nbformat": 4,
 "nbformat_minor": 5
}
