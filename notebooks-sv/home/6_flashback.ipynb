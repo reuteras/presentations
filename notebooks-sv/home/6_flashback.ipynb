{
 "cells": [
  {
   "cell_type": "code",
   "execution_count": null,
   "id": "4673b2ac-57bf-451f-b90b-234132c3f4f0",
   "metadata": {},
   "outputs": [],
   "source": [
    "# Analys av en tråd på Flashback"
   ]
  },
  {
   "cell_type": "code",
   "execution_count": null,
   "id": "5ba9201b-3b5e-48af-bafc-8b71f018488f",
   "metadata": {},
   "outputs": [],
   "source": [
    "!python3 -m pip install --upgrade matplotlib networkx pandas pyvipr > /dev/null\n",
    "#!jupyter labextension install @jupyter-widgets/jupyterlab-manager > /dev/null\n",
    "#!jupyter labextension install pyvipr > /dev/null\n",
    "!jupyter nbextension enable --py --sys-prefix pyvipr"
   ]
  },
  {
   "cell_type": "code",
   "execution_count": null,
   "id": "f2d20162-ed04-41ac-8daf-b7b6dbdfe6cc",
   "metadata": {},
   "outputs": [],
   "source": [
    "import pandas as pd\n",
    "import sqlite3\n",
    "import matplotlib.pyplot as plt\n",
    "import networkx as nx"
   ]
  },
  {
   "cell_type": "code",
   "execution_count": null,
   "id": "426d7bd3-1b73-40d6-b83c-346181b0cfe8",
   "metadata": {},
   "outputs": [],
   "source": [
    "# Definiera tråd och användare du är intresserad av\n",
    "thread = \"\"\n",
    "user = \"\""
   ]
  },
  {
   "cell_type": "code",
   "execution_count": null,
   "id": "db1cbcf9-5c32-4527-9aaa-45671f32b745",
   "metadata": {},
   "outputs": [],
   "source": [
    "# Variabler \n",
    "database = 'flashbackscraper/' + thread + \".sqlite3\"\n",
    "gexf = 'flashbackscraper/' + thread + \".gexf\"\n",
    "gexf_image = 'flashbackscraper/' + thread + \".png\""
   ]
  },
  {
   "cell_type": "code",
   "execution_count": null,
   "id": "b3365534-beda-4519-a41d-f7995dedfd84",
   "metadata": {},
   "outputs": [],
   "source": [
    "![[ ! -d flashbackscraper ]] && git clone https://github.com/christopherkullenberg/flashbackscraper.git\n",
    "!python3 -m pip --quiet install beautifulsoup4 lxml requests[socks]\n",
    "![[ ! -e flashbackscraper/{thread}.sqlite3 ]] && cd flashbackscraper && python3 flashbackscraper.py -u \"https://www.flashback.org/{thread}\""
   ]
  },
  {
   "cell_type": "code",
   "execution_count": null,
   "id": "e2e92ad5-223b-4f88-8813-e5a947e52986",
   "metadata": {},
   "outputs": [],
   "source": [
    "# Öppna en connection till databasen från flashbackscaper\n",
    "conn = sqlite3.connect(database)"
   ]
  },
  {
   "cell_type": "code",
   "execution_count": null,
   "id": "8661baf1-d264-41ec-b97b-babb16c699a0",
   "metadata": {},
   "outputs": [],
   "source": [
    "# Läs in sqlite-database och spara den i en dataframe\n",
    "flashback_df = pd.read_sql_query(\"SELECT * FROM fb\", conn)"
   ]
  },
  {
   "cell_type": "code",
   "execution_count": null,
   "id": "e1582ab4-352d-4a79-b51d-f17631800e0e",
   "metadata": {},
   "outputs": [],
   "source": [
    "print(\"Det finns\", str(len(flashback_df)), \"inlägg från tråden på Flashback i den inlästa databasen.\") "
   ]
  },
  {
   "cell_type": "code",
   "execution_count": null,
   "id": "d7d85e25-389b-46b1-b22f-204bd0eb77d1",
   "metadata": {},
   "outputs": [],
   "source": [
    "# Specifiera tidsformat i DataFrame.\n",
    "flashback_df.time = pd.to_datetime(flashback_df.date + flashback_df.time, format='%Y-%m-%d%H:%M')\n",
    "flashback_df.date = pd.to_datetime(flashback_df.date, format='%Y-%m-%d')"
   ]
  },
  {
   "cell_type": "code",
   "execution_count": null,
   "id": "3afbf6d1-683b-4dcd-8e59-88d220c4687e",
   "metadata": {},
   "outputs": [],
   "source": [
    "# Visa alla inlägg.\n",
    "pd.set_option('display.max_rows', None) # pd.reset_option('display.max_rows') to reset\n",
    "pd.set_option('max_colwidth', None)\n",
    "flashback_df"
   ]
  },
  {
   "cell_type": "code",
   "execution_count": null,
   "id": "07acabf3-fbbf-469c-ab43-fdad2876aef0",
   "metadata": {},
   "outputs": [],
   "source": [
    "# Vilka användare är aktiva i tråden?\n",
    "flashback_df['user'].value_counts()"
   ]
  },
  {
   "cell_type": "code",
   "execution_count": null,
   "id": "ffb70a7b-03fe-403e-9859-3c3dbec517b6",
   "metadata": {},
   "outputs": [],
   "source": [
    "# Titta närmare på en användare och spara informationen i en dataframe user_df\n",
    "user_df = pd.read_sql_query(\"SELECT * FROM fb WHERE user = '\" + user + \"'\", conn)\n",
    "print(str(len(user_df)), \"data points.\")\n",
    "# Lägg till fält med aktiv timme\n",
    "user_df['hour'] = user_df.time.str[:2]\n",
    "user_df.time = pd.to_datetime(user_df.date + user_df.time, format='%Y-%m-%d%H:%M')\n",
    "user_df.date = pd.to_datetime(user_df.date, format='%Y-%m-%d')"
   ]
  },
  {
   "cell_type": "code",
   "execution_count": null,
   "id": "cba6cd6a-3abf-4ef5-bced-29b577497a84",
   "metadata": {},
   "outputs": [],
   "source": [
    "procent = len(user_df)/len(flashback_df)*100\n",
    "print(\"Av alla %s inlägg i tråden är %s skrivna av användare %s vilket motsvarar %2.2f%%.\" % (str(len(flashback_df)), str(len(user_df)), user, procent))"
   ]
  },
  {
   "cell_type": "code",
   "execution_count": null,
   "id": "43697594-4a5d-498c-85a0-b16632fbeedb",
   "metadata": {},
   "outputs": [],
   "source": [
    "# Visa utvalda kolumner användaren\n",
    "user_df.iloc[:,[0,4,5,6,9]]"
   ]
  },
  {
   "cell_type": "code",
   "execution_count": null,
   "id": "3bbb0695-2ede-419b-b211-7728d0b864a9",
   "metadata": {},
   "outputs": [],
   "source": [
    "# Vilka inlägg är svar på andras inlägg?\n",
    "# none nedan indikerar inlägg skrivna utan att vara svar.\n",
    "# Siffran anger antal svar till olika andra användare.\n",
    "user_df['inreply'].value_counts()"
   ]
  },
  {
   "cell_type": "code",
   "execution_count": null,
   "id": "a8f21e01-89bc-48e6-a4a8-7048851e04e1",
   "metadata": {},
   "outputs": [],
   "source": [
    "# Sedan tidigare finns en kolumn \"hour\" i DataFrame wb_df med den timme som ett inlägg är gjort.\n",
    "# Använd .value_counts() för att räkna ut antalet.\n",
    "print(user_df['hour'].value_counts())"
   ]
  },
  {
   "cell_type": "code",
   "execution_count": null,
   "id": "14624391-1a9e-46e3-8805-2d89a34da6ca",
   "metadata": {},
   "outputs": [],
   "source": [
    "# Plotta aktiva timmar över dygnets timmar.\n",
    "# Ska en ny DataFrame hours_df med bara timmar och antal.\n",
    "hours_df = user_df['hour'].value_counts().rename_axis('unique_values').reset_index(name='counts')\n",
    "hours_df['unique_values'] = pd.to_numeric(hours_df['unique_values'])"
   ]
  },
  {
   "cell_type": "code",
   "execution_count": null,
   "id": "0dd0d141-f3f4-44b4-b1bb-3c96bb4a1e39",
   "metadata": {},
   "outputs": [],
   "source": [
    "# Rita graf\n",
    "hours = [0] * 24\n",
    "for nr, row in hours_df.iterrows():\n",
    "    hours[row[0]] = row[1]\n",
    "\n",
    "i = 0\n",
    "x = []\n",
    "while i < 24:\n",
    "    x.append(i)\n",
    "    i=i+1\n",
    "\n",
    "plt.xticks(x, x)\n",
    "plt.bar(x, hours, width=1, align='edge')\n",
    "fig = plt.gcf()\n",
    "fig.set_size_inches(18.5, 10.5)"
   ]
  },
  {
   "cell_type": "code",
   "execution_count": null,
   "id": "13cb9e69-8468-4736-94f3-862d80949595",
   "metadata": {},
   "outputs": [],
   "source": [
    "# Sätt en cursor till databasen\n",
    "db = sqlite3.connect(database)\n",
    "cursor = db.cursor()"
   ]
  },
  {
   "cell_type": "code",
   "execution_count": null,
   "id": "3423f1b3-61df-411a-9d1e-8a1270e880f7",
   "metadata": {},
   "outputs": [],
   "source": [
    "# Läs in alla kolumnerna user och inreply\n",
    "selectedges = cursor.execute('SELECT user, inreply FROM fb')\n",
    "edges = cursor.fetchall()"
   ]
  },
  {
   "cell_type": "code",
   "execution_count": null,
   "id": "8acdd425-d09f-4cc8-aa27-0cba836496c3",
   "metadata": {},
   "outputs": [],
   "source": [
    "# Skapa en tom graf\n",
    "G = nx.Graph()"
   ]
  },
  {
   "cell_type": "code",
   "execution_count": null,
   "id": "cabe517e-5bb3-44bf-8b9d-ff31fd058611",
   "metadata": {},
   "outputs": [],
   "source": [
    "# Lägg in kopplingar mellan inlägg\n",
    "for e in edges:\n",
    "    if e[1] == 'none':\n",
    "         continue\n",
    "    else:\n",
    "         G.add_edge(e[0], e[1])"
   ]
  },
  {
   "cell_type": "code",
   "execution_count": null,
   "id": "eaa4f87a-3f21-426a-9c39-d6d12a5c7fb7",
   "metadata": {},
   "outputs": [],
   "source": [
    "# Skapa fast bild för utskrifter.\n",
    "fig = plt.figure(figsize=(19,13))\n",
    "ax = plt.subplot(111)\n",
    "ax.set_title('Kopplingar mellan användare', fontsize=25)\n",
    "\n",
    "pos = nx.shell_layout(G)\n",
    "nx.draw(G, pos, node_size=1500, node_color='red', font_size=10, font_weight='bold')\n",
    "nx.draw_networkx_nodes(G, pos, node_size=10, node_color=\"w\", alpha=0.4)\n",
    "nx.draw_networkx_edges(G, pos, alpha=0.4, node_size=0, width=1, edge_color=\"k\")\n",
    "nx.draw_networkx_labels(G, pos, font_size=18)\n",
    "plt.tight_layout()\n",
    "plt.savefig(gexf_image, format=\"PNG\")\n",
    "plt.show()"
   ]
  }
 ],
 "metadata": {
  "kernelspec": {
   "display_name": "Python 3 (ipykernel)",
   "language": "python",
   "name": "python3"
  },
  "language_info": {
   "codemirror_mode": {
    "name": "ipython",
    "version": 3
   },
   "file_extension": ".py",
   "mimetype": "text/x-python",
   "name": "python",
   "nbconvert_exporter": "python",
   "pygments_lexer": "ipython3",
   "version": "3.10.8"
  }
 },
 "nbformat": 4,
 "nbformat_minor": 5
}
