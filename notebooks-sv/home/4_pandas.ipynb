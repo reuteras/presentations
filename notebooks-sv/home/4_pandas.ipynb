{
 "cells": [
  {
   "cell_type": "markdown",
   "id": "3149492e-d8e0-433c-9a91-852a845ad230",
   "metadata": {},
   "source": [
    "# Pandas"
   ]
  },
  {
   "cell_type": "code",
   "execution_count": null,
   "id": "f55ec848-d04d-4a11-b09b-498c4f01eb83",
   "metadata": {},
   "outputs": [],
   "source": [
    "!python3 -m pip --quiet install -U pip\n",
    "!python3 -m pip --quiet install -U pandas"
   ]
  },
  {
   "cell_type": "code",
   "execution_count": null,
   "id": "cc7ad1db-c690-4442-8b1f-bd193700727c",
   "metadata": {},
   "outputs": [],
   "source": [
    "import pandas as pd"
   ]
  },
  {
   "cell_type": "code",
   "execution_count": null,
   "id": "c4a05e5a-679c-47f3-844f-fc00c503476e",
   "metadata": {},
   "outputs": [],
   "source": [
    "url = \"https://attackers.ongoing.today/c2_sweden_csv.txt\"\n",
    "c2_df = pd.read_csv(url)"
   ]
  },
  {
   "cell_type": "code",
   "execution_count": null,
   "id": "54b231d8-5443-4dbc-93fb-701aa41061e3",
   "metadata": {},
   "outputs": [],
   "source": [
    "display(c2_df)"
   ]
  },
  {
   "cell_type": "code",
   "execution_count": null,
   "id": "7b273968-5d93-489c-9b74-8a5cbeb45abc",
   "metadata": {},
   "outputs": [],
   "source": [
    "display(c2_df[\"name\"] == \"Cobalt Strike\")"
   ]
  },
  {
   "cell_type": "code",
   "execution_count": null,
   "id": "839ea001-f187-41d2-b1ea-ecd9fb014f00",
   "metadata": {},
   "outputs": [],
   "source": [
    "display(c2_df[c2_df[\"name\"] == \"Cobalt Strike\"])"
   ]
  },
  {
   "cell_type": "code",
   "execution_count": null,
   "id": "57c36e22-3573-46e6-a351-844992fa9ee6",
   "metadata": {},
   "outputs": [],
   "source": [
    "display(c2_df[c2_df[\"name\"] == \"Cobalt Strike\"][\"ioc\"])"
   ]
  },
  {
   "cell_type": "code",
   "execution_count": null,
   "id": "a46a3a32-af83-457f-84e5-a243330d31ef",
   "metadata": {},
   "outputs": [],
   "source": [
    "!python3 -m pip --quiet install -U numpy"
   ]
  },
  {
   "cell_type": "code",
   "execution_count": null,
   "id": "3190e936-a18e-4f96-a614-e8dadd8ee876",
   "metadata": {},
   "outputs": [],
   "source": [
    "import numpy as np"
   ]
  },
  {
   "cell_type": "code",
   "execution_count": null,
   "id": "0dc3bcb2-fb04-4fc3-95f2-03e097acec88",
   "metadata": {},
   "outputs": [],
   "source": [
    "c2_numpy = c2_df[c2_df[\"name\"] == \"Metasploit\"][\"ioc\"].to_numpy()\n",
    "print(c2_numpy)"
   ]
  },
  {
   "cell_type": "code",
   "execution_count": null,
   "id": "e6ae00f7-1f60-4437-b26f-1ab0f89180e0",
   "metadata": {},
   "outputs": [],
   "source": [
    "c2_df.drop_duplicates(subset=[\"name\"])"
   ]
  },
  {
   "cell_type": "code",
   "execution_count": null,
   "id": "9f0a9cc4-13c0-410b-a2fa-61509abee5bc",
   "metadata": {},
   "outputs": [],
   "source": [
    "c2_df.drop_duplicates(subset=[\"name\"], keep=\"last\")"
   ]
  },
  {
   "cell_type": "code",
   "execution_count": null,
   "id": "85754eed-e86f-4209-b6b3-bda599ebd829",
   "metadata": {},
   "outputs": [],
   "source": [
    "c2_df.drop_duplicates(subset=[\"name\"], keep=\"first\")"
   ]
  },
  {
   "cell_type": "code",
   "execution_count": null,
   "id": "341238e1-505a-4484-8ca5-951ea08ed291",
   "metadata": {},
   "outputs": [],
   "source": [
    "c2_df.drop_duplicates(subset=[\"name\", \"source\"])"
   ]
  },
  {
   "cell_type": "markdown",
   "id": "7fbd54a6-8b35-4108-88ee-44e4913881bb",
   "metadata": {},
   "source": [
    "## Länkar\n",
    "\n",
    "- [Pandas](https://pandas.pydata.org/)\n",
    "- [The Pandas DataFrame: Make Working With Data Delightful](https://realpython.com/pandas-dataframe/)"
   ]
  }
 ],
 "metadata": {
  "kernelspec": {
   "display_name": "Python 3 (ipykernel)",
   "language": "python",
   "name": "python3"
  },
  "language_info": {
   "codemirror_mode": {
    "name": "ipython",
    "version": 3
   },
   "file_extension": ".py",
   "mimetype": "text/x-python",
   "name": "python",
   "nbconvert_exporter": "python",
   "pygments_lexer": "ipython3",
   "version": "3.10.8"
  }
 },
 "nbformat": 4,
 "nbformat_minor": 5
}
