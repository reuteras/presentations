{
 "cells": [
  {
   "cell_type": "code",
   "execution_count": null,
   "id": "87b026b0-a2eb-4e67-8609-48b3af7a1b68",
   "metadata": {},
   "outputs": [],
   "source": [
    "# Rensa efter elastic\n",
    "!cd && rm -rf pcap"
   ]
  },
  {
   "cell_type": "code",
   "execution_count": null,
   "id": "186c7e1c-42e9-499c-a531-ec328638b84e",
   "metadata": {},
   "outputs": [],
   "source": [
    "# Rensa kqlmagic\n",
    "!cd && rm -rf kqlmagic"
   ]
  },
  {
   "cell_type": "code",
   "execution_count": null,
   "id": "c0cc29e9-a25c-420e-8efa-9d1b907cfecc",
   "metadata": {},
   "outputs": [],
   "source": [
    "# Rensa efter flashpackscraper\n",
    "!cd && rm -rf flashbackscraper"
   ]
  },
  {
   "cell_type": "code",
   "execution_count": null,
   "id": "373c4bff-5802-40f0-a3d9-6ede131d8739",
   "metadata": {},
   "outputs": [],
   "source": [
    "# Rensa övrigt\n",
    "!cd && rm -rf .cache/ .msticpy/GeoLite2-City.mmdb"
   ]
  }
 ],
 "metadata": {
  "kernelspec": {
   "display_name": "Python 3 (ipykernel)",
   "language": "python",
   "name": "python3"
  },
  "language_info": {
   "codemirror_mode": {
    "name": "ipython",
    "version": 3
   },
   "file_extension": ".py",
   "mimetype": "text/x-python",
   "name": "python",
   "nbconvert_exporter": "python",
   "pygments_lexer": "ipython3",
   "version": "3.10.8"
  }
 },
 "nbformat": 4,
 "nbformat_minor": 5
}
