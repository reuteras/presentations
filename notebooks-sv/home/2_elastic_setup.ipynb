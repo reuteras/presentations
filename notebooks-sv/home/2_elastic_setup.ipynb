{
 "cells": [
  {
   "cell_type": "markdown",
   "id": "44c35bae-0993-4ef5-9568-ccde16ef8034",
   "metadata": {},
   "source": [
    "# Använda Notebooks med elastic\n",
    "\n",
    "Ett snabbt exempel på att använda notebooks med elastic med hjälp av Python.\n",
    "\n",
    "Inspiration kommer från följande blogginlägg https://www.elastic.co/blog/analyzing-network-packets-with-wireshark-elasticsearch-and-kibana."
   ]
  },
  {
   "cell_type": "markdown",
   "id": "f7d032eb-97cb-4486-96c8-956aa47fee49",
   "metadata": {
    "tags": []
   },
   "source": [
    "## Elastic\n",
    "\n",
    "Starta elastic genom att skriva\n",
    "\n",
    "    docker run --rm --name elasticsearch -v C:\\presentations\\notebooks-sv\\elastic\\elasticsearch.yml:/usr/share/elasticsearch/config/elasticsearch.yml:ro,Z --network presentation -p 9200:9200 -p 9300:9300 -e \"discovery.type=single-node\" elasticsearch:7.17.8"
   ]
  },
  {
   "cell_type": "markdown",
   "id": "48f5791c-ba18-49ca-a654-f7017e9497ab",
   "metadata": {},
   "source": [
    "## Hämta pcap\n",
    "\n",
    "Hämta och packa upp pcap från https://www.malware-traffic-analysis.net/2022/12/09/index.html. \n",
    "\n",
    "2022-12-09 (FRIDAY) - HTML SMUGGLING LEADS TO QAKBOT (QBOT), DISTRIBUTION/BOTNET TAG: AZD"
   ]
  },
  {
   "cell_type": "code",
   "execution_count": null,
   "id": "89c77901-c71b-4053-8b43-cc129ecd543c",
   "metadata": {},
   "outputs": [],
   "source": [
    "![[ ! -d pcap ]] && mkdir pcap"
   ]
  },
  {
   "cell_type": "code",
   "execution_count": null,
   "id": "c8f39718-ece6-4ba5-a91f-665161ccddb4",
   "metadata": {},
   "outputs": [],
   "source": [
    "![[ -d pcap ]] && [[ ! -e pcap/sample.zip ]] && curl -o pcap/sample.zip https://www.malware-traffic-analysis.net/2022/12/09/2022-12-09-azd-Qakbot-infection-traffic-carved-and-santized.pcap.zip\n",
    "![[ -d pcap ]] && [[ -e pcap/sample.zip ]] && [[ ! -e pcap/sample.pcap ]] && cd pcap && 7z e -pinfected sample.zip && mv 2022* sample.pcap "
   ]
  },
  {
   "cell_type": "code",
   "execution_count": null,
   "id": "db88f9bd-6ca6-4dcb-a29f-4868203dd80d",
   "metadata": {},
   "outputs": [],
   "source": [
    "# Extrahera data från pcap\n",
    "![[ ! -e pcap/sample.json ]] && tshark -r pcap/sample.pcap -T ek | jq -c 'del(.index._type)' > pcap/sample.json\n",
    "!head pcap/sample.json"
   ]
  },
  {
   "cell_type": "code",
   "execution_count": null,
   "id": "02c3d00e-9507-467a-8532-99db3a9e612e",
   "metadata": {},
   "outputs": [],
   "source": [
    "# Är elastic uppe (kan även köras i en terminal)\n",
    "!curl -s elasticsearch:9200/_cluster/health?pretty"
   ]
  },
  {
   "cell_type": "code",
   "execution_count": null,
   "id": "7b2a9c6f-5a99-4b66-856c-08d80a3d1226",
   "metadata": {
    "tags": []
   },
   "outputs": [],
   "source": [
    "# Ladda upp json till elastic\n",
    "!cd pcap && curl -H \"Content-Type: application/x-ndjson\" -XPOST http://elasticsearch:9200/_bulk --data-binary @sample.json > /dev/null"
   ]
  },
  {
   "cell_type": "markdown",
   "id": "d60887fc-a208-4a4d-8b34-525199143098",
   "metadata": {},
   "source": [
    "## Länkar\n",
    "\n",
    "- [Python Elasticsearch Client](https://elasticsearch-py.readthedocs.io/en/latest/) documentation\n",
    "- [Elasticsearch DSL](https://elasticsearch-dsl.readthedocs.io/en/latest/index.html) documentation"
   ]
  }
 ],
 "metadata": {
  "kernelspec": {
   "display_name": "Python 3 (ipykernel)",
   "language": "python",
   "name": "python3"
  },
  "language_info": {
   "codemirror_mode": {
    "name": "ipython",
    "version": 3
   },
   "file_extension": ".py",
   "mimetype": "text/x-python",
   "name": "python",
   "nbconvert_exporter": "python",
   "pygments_lexer": "ipython3",
   "version": "3.10.8"
  }
 },
 "nbformat": 4,
 "nbformat_minor": 5
}
