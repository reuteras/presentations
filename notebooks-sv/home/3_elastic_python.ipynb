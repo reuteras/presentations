{
 "cells": [
  {
   "cell_type": "markdown",
   "id": "1b3a9f47-a2a6-4cae-b3e0-da68418be121",
   "metadata": {},
   "source": [
    "# Elasticsearch och Python\n",
    "\n"
   ]
  },
  {
   "cell_type": "code",
   "execution_count": null,
   "id": "5338cd7f-c766-4e05-ab14-5421d3aac451",
   "metadata": {},
   "outputs": [],
   "source": [
    "!python3 -m pip install elasticsearch elasticsearch-dsl"
   ]
  },
  {
   "cell_type": "code",
   "execution_count": null,
   "id": "fe9228be-9897-499b-8fc3-0068a265e9c3",
   "metadata": {},
   "outputs": [],
   "source": [
    "from elasticsearch import Elasticsearch\n",
    "from elasticsearch_dsl import Search, Q"
   ]
  },
  {
   "cell_type": "code",
   "execution_count": null,
   "id": "e36407ca-5b04-46dc-a876-3f4c2b47ae27",
   "metadata": {},
   "outputs": [],
   "source": [
    "es = Elasticsearch(\"http://elasticsearch:9200\")\n",
    "\n",
    "es.info()"
   ]
  },
  {
   "cell_type": "code",
   "execution_count": null,
   "id": "695a2881-c263-4888-8349-766722e61634",
   "metadata": {},
   "outputs": [],
   "source": [
    "response = es.search(\n",
    "    index=\"packets-2022-12-09\",\n",
    "    query= {\n",
    "        \"bool\": {\n",
    "              \"must\": [{\"match\": {\"layers.tcp.tcp_tcp_dstport\": \"443\"}}],\n",
    "              \"must_not\": [{\"match\": {\"layers.tcp.tcp_tcp_flags_ack\": \"true\"}}],\n",
    "              \"must\": [{\"match\": {\"layers.tcp.tcp_tcp_flags_syn\": \"true\"}}],\n",
    "        }\n",
    "    },\n",
    ")\n",
    "response"
   ]
  },
  {
   "cell_type": "code",
   "execution_count": null,
   "id": "c5a06df9-c042-453a-a579-c22fddb73131",
   "metadata": {},
   "outputs": [],
   "source": [
    "printed = []\n",
    "for hit in response[\"hits\"][\"hits\"]:\n",
    "    src =hit[\"_source\"][\"layers\"][\"ip\"][\"ip_ip_src\"]\n",
    "    dst = hit[\"_source\"][\"layers\"][\"ip\"][\"ip_ip_dst\"]\n",
    "    if src not in printed:\n",
    "        printed.append(src)\n",
    "        print(src)\n",
    "    if dst not in printed:\n",
    "        printed.append(dst)\n",
    "        print(dst)"
   ]
  },
  {
   "cell_type": "code",
   "execution_count": null,
   "id": "cc7c5b2e-aa71-4c23-9db8-3b445f246509",
   "metadata": {},
   "outputs": [],
   "source": [
    "query = Q('multi_match', query='443', fields=['layers.tcp.tcp_tcp_dstport']) & \\\n",
    "    Q('multi_match', query='false', fields=['layers.tcp.tcp_tcp_flags_ack']) & \\\n",
    "    Q('multi_match', query='true', fields=['layers.tcp.tcp_tcp_flags_syn'])\n",
    "search_sdl = Search(using=es, index='packets-2022-12-09').query(query)\n",
    "response_sdl = search_sdl.execute()\n",
    "for hit in response_sdl:\n",
    "    print(hit[\"layers\"][\"ip\"][\"ip_ip_src\"])"
   ]
  },
  {
   "cell_type": "code",
   "execution_count": null,
   "id": "5010c785-f8a6-49fa-accc-0daa639b70d4",
   "metadata": {},
   "outputs": [],
   "source": [
    "printed = []\n",
    "for hit in response_sdl:\n",
    "    src =hit[\"layers\"][\"ip\"][\"ip_ip_src\"]\n",
    "    dst = hit[\"layers\"][\"ip\"][\"ip_ip_dst\"]\n",
    "    if src not in printed:\n",
    "        printed.append(src)\n",
    "        print(src)\n",
    "    if dst not in printed:\n",
    "        printed.append(dst)\n",
    "        print(dst)"
   ]
  }
 ],
 "metadata": {
  "kernelspec": {
   "display_name": "Python 3 (ipykernel)",
   "language": "python",
   "name": "python3"
  },
  "language_info": {
   "codemirror_mode": {
    "name": "ipython",
    "version": 3
   },
   "file_extension": ".py",
   "mimetype": "text/x-python",
   "name": "python",
   "nbconvert_exporter": "python",
   "pygments_lexer": "ipython3",
   "version": "3.10.8"
  }
 },
 "nbformat": 4,
 "nbformat_minor": 5
}
