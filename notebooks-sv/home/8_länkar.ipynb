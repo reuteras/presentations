{
 "cells": [
  {
   "cell_type": "markdown",
   "id": "ec389e16-366f-426f-97f6-52f0b93e4761",
   "metadata": {},
   "source": [
    "## Länkar\n",
    "- [memOptix](https://github.com/blueteam0ps/memOptix)\n",
    "- [Learning Packet Analysis with Data Science](https://medium.com/hackervalleystudio/learning-packet-analysis-with-data-science-5356a3340d4e)\n",
    "- [Explorations of PCAP files from contagio malware dump](https://anaconda.org/anaconda-enterprise/malware-traffic-analysis/notebook)\n",
    "- [Jupyter Notebook applied to cybersecurity and threat intelligence](https://jupyter.securitybreak.io/) - innehåller bland annat följande notebooks, _ELK Threat Hunting_, _VT Domain Hunting using MSTICpy_, _10 Python Libs for Malware Analysis and Reverse Engineering_ och _IoCExtractor using MSTICpy_.\n",
    "- [11 Jupyter Notebook Techniques You Should Know](https://ai.plainenglish.io/11-jupyter-notebook-techniques-you-should-know-2ebeafefa303)\n"
   ]
  }
 ],
 "metadata": {
  "kernelspec": {
   "display_name": "Python 3 (ipykernel)",
   "language": "python",
   "name": "python3"
  },
  "language_info": {
   "codemirror_mode": {
    "name": "ipython",
    "version": 3
   },
   "file_extension": ".py",
   "mimetype": "text/x-python",
   "name": "python",
   "nbconvert_exporter": "python",
   "pygments_lexer": "ipython3",
   "version": "3.10.8"
  }
 },
 "nbformat": 4,
 "nbformat_minor": 5
}
