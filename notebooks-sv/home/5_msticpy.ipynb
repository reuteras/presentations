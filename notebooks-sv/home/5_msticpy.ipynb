{
 "cells": [
  {
   "cell_type": "markdown",
   "id": "318d6c11-343c-46db-9b9c-12c025d56fb1",
   "metadata": {},
   "source": [
    "# msticpy - MSTIC Jupyter and Python Security Tools\n",
    "\n",
    "Kopiera _~/.msticpy/msticpyconfig.yaml.default_ till _~/.msticpy/msticpyconfig.yaml_"
   ]
  },
  {
   "cell_type": "code",
   "execution_count": null,
   "id": "0cd0be8b-7c64-4337-b948-2e1df737a2f9",
   "metadata": {},
   "outputs": [],
   "source": [
    "!python3 -m pip --quiet install -U pip\n",
    "!python3 -m pip --quiet install msticpy[all]"
   ]
  },
  {
   "cell_type": "code",
   "execution_count": null,
   "id": "eb4726c7-f0be-4467-998b-15e920a93b90",
   "metadata": {},
   "outputs": [],
   "source": [
    "%%capture\n",
    "from IPython.display import display\n",
    "import pandas as pd\n",
    "import msticpy as mp\n",
    "mp.init_notebook(config='/home/jovyan/.msticpy/msticpyconfig.yaml');"
   ]
  },
  {
   "cell_type": "code",
   "execution_count": null,
   "id": "f1ee7722-1dce-4d93-b9b2-a3461cfce42c",
   "metadata": {},
   "outputs": [],
   "source": [
    "url = \"https://attackers.ongoing.today/c2_sweden_csv.txt\"\n",
    "c2_df = pd.read_csv(url)"
   ]
  },
  {
   "cell_type": "code",
   "execution_count": null,
   "id": "11523bb1-efb6-4e92-96f4-3238947d4625",
   "metadata": {},
   "outputs": [],
   "source": [
    "ti = TILookup()"
   ]
  },
  {
   "cell_type": "code",
   "execution_count": null,
   "id": "21b75c84-1393-4c06-89b5-9abdeb4c6fef",
   "metadata": {},
   "outputs": [],
   "source": [
    "c2_ti_df = ti.lookup_iocs(c2_df[\"ip\"])"
   ]
  },
  {
   "cell_type": "code",
   "execution_count": null,
   "id": "eef188d5-c2d1-4c17-9db4-5f247521ba86",
   "metadata": {},
   "outputs": [],
   "source": [
    "c2_ti_df[c2_ti_df[\"Status\"] == 204]"
   ]
  },
  {
   "cell_type": "code",
   "execution_count": null,
   "id": "47e2b6d4-7286-4064-afcf-75833818584c",
   "metadata": {},
   "outputs": [],
   "source": [
    "for provider in c2_ti_df[\"Provider\"].drop_duplicates():\n",
    "    print(provider)"
   ]
  },
  {
   "cell_type": "code",
   "execution_count": null,
   "id": "683bc9d7-5dce-4136-9166-36968ffca9b7",
   "metadata": {},
   "outputs": [],
   "source": [
    "for provider in c2_ti_df[\"Provider\"].drop_duplicates():\n",
    "    display(c2_ti_df[c2_ti_df[\"Provider\"] == provider])"
   ]
  },
  {
   "cell_type": "code",
   "execution_count": null,
   "id": "a54ed5d5-1212-4b98-8d50-f55a73bd32fa",
   "metadata": {},
   "outputs": [],
   "source": [
    "# Skapa en karta med IP-adresserna\n",
    "ip_map = c2_df.mp_plot.folium_map(ip_column='ip')\n",
    "display(ip_map)"
   ]
  },
  {
   "cell_type": "code",
   "execution_count": null,
   "id": "c935d707-f839-481d-aad4-3b441ac6f461",
   "metadata": {},
   "outputs": [],
   "source": [
    "c2_whois = c2_df.mp.whois(ip_column=\"ip\")\n",
    "c2_whois"
   ]
  },
  {
   "cell_type": "markdown",
   "id": "91603e1d-298a-4a6b-b6d0-bef0d05ffbcb",
   "metadata": {},
   "source": [
    "## Länkar\n",
    "\n",
    "- [msticpy på GitHub](https://github.com/microsoft/msticpy)\n",
    "- [msticpy dokumentation](https://msticpy.readthedocs.io/en/latest/index.html)\n",
    "- [Using Python to unearth a goldmine of threat intelligence from leaked chat logs](https://www.microsoft.com/en-us/security/blog/2022/06/01/using-python-to-unearth-a-goldmine-of-threat-intelligence-from-leaked-chat-logs/) och den [notebook](https://github.com/microsoft/msticpy/blob/main/docs/notebooks/ContiLeaksAnalysis.ipynb) som användes."
   ]
  }
 ],
 "metadata": {
  "kernelspec": {
   "display_name": "Python 3 (ipykernel)",
   "language": "python",
   "name": "python3"
  },
  "language_info": {
   "codemirror_mode": {
    "name": "ipython",
    "version": 3
   },
   "file_extension": ".py",
   "mimetype": "text/x-python",
   "name": "python",
   "nbconvert_exporter": "python",
   "pygments_lexer": "ipython3",
   "version": "3.10.8"
  }
 },
 "nbformat": 4,
 "nbformat_minor": 5
}
