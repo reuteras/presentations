{
 "cells": [
  {
   "cell_type": "markdown",
   "id": "45bc7264-cd3c-4f39-9596-6b89bc7b3143",
   "metadata": {},
   "source": [
    "# Genomgång av Jupyter\n",
    "\n",
    "En kort presentation för att visa på möjligheterna med Jupyter Notebooks.\n",
    "\n",
    "## Begrepp\n",
    "\n",
    "- Cell\n",
    "- Notebook\n",
    "\n",
    "## Gränssnitt\n",
    "\n",
    "- Flikar, terminal med mera\n",
    "- Filhanterare\n",
    "- Menyer\n",
    "\n",
    "## Hur fungerar en notebook?\n",
    "\n",
    "Demo nedan."
   ]
  },
  {
   "cell_type": "code",
   "execution_count": null,
   "id": "837d5b72-fe6c-4073-a68c-8d7c0ea5f899",
   "metadata": {
    "tags": []
   },
   "outputs": [],
   "source": [
    "a = \"Hello\""
   ]
  },
  {
   "cell_type": "code",
   "execution_count": null,
   "id": "dbc9a86e-b46d-4319-aa2f-2e8db991432d",
   "metadata": {
    "tags": []
   },
   "outputs": [],
   "source": [
    "a"
   ]
  },
  {
   "cell_type": "code",
   "execution_count": null,
   "id": "83db3d06-afb1-4667-b473-5b0f3c7cf94d",
   "metadata": {
    "tags": []
   },
   "outputs": [],
   "source": [
    "a += \" world\"\n",
    "a"
   ]
  },
  {
   "cell_type": "code",
   "execution_count": null,
   "id": "910e8bc3-b477-4eff-8e2d-d75046cbc916",
   "metadata": {
    "tags": []
   },
   "outputs": [],
   "source": [
    "a += \"!\"\n",
    "a"
   ]
  },
  {
   "cell_type": "code",
   "execution_count": null,
   "id": "46982189-8f6c-42b0-843e-8c9346d0aaf8",
   "metadata": {
    "tags": []
   },
   "outputs": [],
   "source": [
    "a\n",
    "a"
   ]
  },
  {
   "cell_type": "code",
   "execution_count": null,
   "id": "d1609323-1a16-4cc0-9c87-b7d826d2f017",
   "metadata": {
    "tags": []
   },
   "outputs": [],
   "source": [
    "print(a)\n",
    "print(a)"
   ]
  },
  {
   "cell_type": "code",
   "execution_count": null,
   "id": "e8994d0b-c901-48c8-8b53-190a833b4ef3",
   "metadata": {
    "tags": []
   },
   "outputs": [],
   "source": [
    "a = \"Hello\"\n",
    "a += \" world\"\n",
    "a += \"!\""
   ]
  },
  {
   "cell_type": "code",
   "execution_count": null,
   "id": "13c94949-8ce9-474c-ae62-da3ff4d73278",
   "metadata": {},
   "outputs": [],
   "source": [
    "print(a)"
   ]
  },
  {
   "cell_type": "markdown",
   "id": "0b68541d-26a8-4752-afec-34b57b96d08f",
   "metadata": {},
   "source": [
    "## Köra kommandon"
   ]
  },
  {
   "cell_type": "code",
   "execution_count": null,
   "id": "a93baa8a-6276-45e7-8439-2cf942336fb1",
   "metadata": {},
   "outputs": [],
   "source": [
    "!ls"
   ]
  },
  {
   "cell_type": "code",
   "execution_count": null,
   "id": "0c700fcc-8b7b-446d-ae28-da481fd26dc3",
   "metadata": {},
   "outputs": [],
   "source": [
    "!python3 -m pip install -U pip"
   ]
  },
  {
   "cell_type": "markdown",
   "id": "2cc23b33-3201-4f0c-b82b-b09c46ba3949",
   "metadata": {},
   "source": [
    "## Hämta in data\n",
    "\n",
    "Lås oss börja med att hämta lite data från polisen.se. Se https://polisen.se/om-polisen/om-webbplatsen/oppna-data/api-over-polisens-handelser/ för API."
   ]
  },
  {
   "cell_type": "code",
   "execution_count": null,
   "id": "1d675bcc-aef3-42f7-a03d-24af75432be9",
   "metadata": {},
   "outputs": [],
   "source": [
    "# Gör import i en cell så kan vi köra om andra celler utan behöva importera igen.\n",
    "import requests\n",
    "import json"
   ]
  },
  {
   "cell_type": "code",
   "execution_count": null,
   "id": "30d71041-b736-4c67-896b-e6a26021a730",
   "metadata": {},
   "outputs": [],
   "source": [
    "# Hämta in data från polisen.se\n",
    "response = requests.get('https://polisen.se/api/events')\n",
    "print(response.status_code)\n",
    "print(type(response.text))"
   ]
  },
  {
   "cell_type": "code",
   "execution_count": null,
   "id": "0c427e75-828e-4980-8b60-f12897ff6e14",
   "metadata": {},
   "outputs": [],
   "source": [
    "news = json.loads(response.text)\n",
    "print(len(news))"
   ]
  },
  {
   "cell_type": "code",
   "execution_count": null,
   "id": "2ddcec98-c3cb-47a1-915d-917b243683cf",
   "metadata": {},
   "outputs": [],
   "source": [
    "# Hämta data för en dag\n",
    "oneday = requests.get('https://polisen.se/api/events?DateTime=2022-12-11')\n",
    "print(len(json.loads(oneday.text)))"
   ]
  },
  {
   "cell_type": "code",
   "execution_count": null,
   "id": "ebf113af-7276-464e-86d9-3e26a6592203",
   "metadata": {},
   "outputs": [],
   "source": [
    "print(oneday.text)"
   ]
  },
  {
   "cell_type": "code",
   "execution_count": null,
   "id": "ba479b29-9b87-4959-a420-4b72f84a956d",
   "metadata": {},
   "outputs": [],
   "source": [
    "oneday_json = json.loads(oneday.text)\n",
    "print(oneday_json)\n",
    "print(type(oneday_json))"
   ]
  },
  {
   "cell_type": "code",
   "execution_count": null,
   "id": "34b78952-2e71-4139-8717-5003f18912db",
   "metadata": {},
   "outputs": [],
   "source": [
    "oneday_str = json.dumps(oneday_json, indent=4)\n",
    "print(oneday_str)"
   ]
  },
  {
   "cell_type": "code",
   "execution_count": null,
   "id": "835db672-fa05-44b2-9005-e32ad49af616",
   "metadata": {},
   "outputs": [],
   "source": [
    "for item in oneday_json:\n",
    "    print(item[\"summary\"])"
   ]
  },
  {
   "cell_type": "markdown",
   "id": "62eb6304-ca41-4719-8bf6-ffcd4ada679c",
   "metadata": {},
   "source": [
    "## Annat"
   ]
  },
  {
   "cell_type": "code",
   "execution_count": null,
   "id": "2fa936ad-7be1-4ada-a513-621265b72912",
   "metadata": {},
   "outputs": [],
   "source": [
    "# Överkurs\n",
    "%sc -l pip=python3 -m pip install -U pip"
   ]
  },
  {
   "cell_type": "code",
   "execution_count": null,
   "id": "143a0076-818e-4068-8a80-97b9f30a0112",
   "metadata": {},
   "outputs": [],
   "source": [
    "# Hur gick uppgraderingen av pip?\n",
    "pip"
   ]
  },
  {
   "cell_type": "code",
   "execution_count": null,
   "id": "c74849c3-e157-4b85-bca7-74b0f718fd72",
   "metadata": {},
   "outputs": [],
   "source": [
    "%sc -l files=ls"
   ]
  },
  {
   "cell_type": "code",
   "execution_count": null,
   "id": "03c3740a-6ce8-4c49-a262-d3c019e13898",
   "metadata": {},
   "outputs": [],
   "source": [
    "print(files)"
   ]
  },
  {
   "cell_type": "code",
   "execution_count": null,
   "id": "ecac7186-6b5a-45d9-8124-2ace38ad0b70",
   "metadata": {},
   "outputs": [],
   "source": [
    "!ls -l \"{files[0]}\""
   ]
  },
  {
   "cell_type": "code",
   "execution_count": null,
   "id": "05382c11-ea89-431e-b06f-18e9a498021a",
   "metadata": {},
   "outputs": [],
   "source": [
    "from IPython import display"
   ]
  },
  {
   "cell_type": "code",
   "execution_count": null,
   "id": "a59a6b1a-c3f7-4b96-bd7e-4744a27fec0d",
   "metadata": {},
   "outputs": [],
   "source": [
    "# Är inte Rick Astley :)\n",
    "display.YouTubeVideo(id=\"Bgmfl17AQWA\", width=900, height=600)"
   ]
  },
  {
   "cell_type": "code",
   "execution_count": null,
   "id": "6d1ef992-7226-4e78-af20-fc79d409e4b7",
   "metadata": {},
   "outputs": [],
   "source": [
    "display.HTML(url=\"https://google.com\")"
   ]
  },
  {
   "cell_type": "markdown",
   "id": "20fa0a30-172a-4899-b6b5-1d0e2c47f557",
   "metadata": {},
   "source": [
    "## Länkar\n",
    "\n",
    "- [Jupyter](https://jupyter.org/)\n",
    "- [Awesome Jupyter](https://github.com/markusschanta/awesome-jupyter)\n",
    "- [Jupyter Notebook: An Introduction](https://realpython.com/jupyter-notebook-introduction/)\n",
    "- [How to Display Rich Media Contents (Image, Audio, Video, etc) in Jupyter Notebook?](https://coderzcolumn.com/tutorials/python/how-to-display-contents-of-different-types-in-jupyter-notebook-lab)\n",
    "- [nbconvert: Convert Notebooks to other formats](https://nbconvert.readthedocs.io/en/latest/index.html)\n",
    "- [The Jupyter+git problem is now solved](https://www.fast.ai/posts/2022-08-25-jupyter-git.html)"
   ]
  }
 ],
 "metadata": {
  "kernelspec": {
   "display_name": "Python 3 (ipykernel)",
   "language": "python",
   "name": "python3"
  },
  "language_info": {
   "codemirror_mode": {
    "name": "ipython",
    "version": 3
   },
   "file_extension": ".py",
   "mimetype": "text/x-python",
   "name": "python",
   "nbconvert_exporter": "python",
   "pygments_lexer": "ipython3",
   "version": "3.10.8"
  }
 },
 "nbformat": 4,
 "nbformat_minor": 5
}
